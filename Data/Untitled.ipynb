{
 "cells": [
  {
   "cell_type": "code",
   "execution_count": 1,
   "metadata": {},
   "outputs": [
    {
     "name": "stderr",
     "output_type": "stream",
     "text": [
      "/Library/Frameworks/Python.framework/Versions/3.6/lib/python3.6/importlib/_bootstrap.py:219: RuntimeWarning: numpy.dtype size changed, may indicate binary incompatibility. Expected 96, got 88\n",
      "  return f(*args, **kwds)\n",
      "/Library/Frameworks/Python.framework/Versions/3.6/lib/python3.6/importlib/_bootstrap.py:219: RuntimeWarning: numpy.dtype size changed, may indicate binary incompatibility. Expected 96, got 88\n",
      "  return f(*args, **kwds)\n"
     ]
    }
   ],
   "source": [
    "import pandas as pd"
   ]
  },
  {
   "cell_type": "code",
   "execution_count": 2,
   "metadata": {},
   "outputs": [],
   "source": [
    "df1 = pd.read_excel(\"FinManDBa.xlsx\")\n",
    "df2 = pd.read_excel(\"Restanti.xlsx\")"
   ]
  },
  {
   "cell_type": "code",
   "execution_count": 3,
   "metadata": {},
   "outputs": [
    {
     "data": {
      "text/html": [
       "<div>\n",
       "<style scoped>\n",
       "    .dataframe tbody tr th:only-of-type {\n",
       "        vertical-align: middle;\n",
       "    }\n",
       "\n",
       "    .dataframe tbody tr th {\n",
       "        vertical-align: top;\n",
       "    }\n",
       "\n",
       "    .dataframe thead th {\n",
       "        text-align: right;\n",
       "    }\n",
       "</style>\n",
       "<table border=\"1\" class=\"dataframe\">\n",
       "  <thead>\n",
       "    <tr style=\"text-align: right;\">\n",
       "      <th></th>\n",
       "      <th>R</th>\n",
       "      <th>Nome</th>\n",
       "      <th>R_Mantra</th>\n",
       "      <th>Squadra_y</th>\n",
       "      <th>Tit</th>\n",
       "      <th>Quote</th>\n",
       "      <th>Predict</th>\n",
       "      <th>Predict STD</th>\n",
       "      <th>FinVal</th>\n",
       "      <th>Diff</th>\n",
       "      <th>Tot. (%)</th>\n",
       "      <th>SpesaPer</th>\n",
       "      <th>SpesaM</th>\n",
       "      <th>SpesaDiff</th>\n",
       "    </tr>\n",
       "  </thead>\n",
       "  <tbody>\n",
       "    <tr>\n",
       "      <th>0</th>\n",
       "      <td>C</td>\n",
       "      <td>DE ROON</td>\n",
       "      <td>M;C</td>\n",
       "      <td>Atalanta</td>\n",
       "      <td>0.8</td>\n",
       "      <td>9.0</td>\n",
       "      <td>5.669826</td>\n",
       "      <td>0.261288</td>\n",
       "      <td>11.139572</td>\n",
       "      <td>2.139572</td>\n",
       "      <td>3.55</td>\n",
       "      <td>10.65</td>\n",
       "      <td>24.896576</td>\n",
       "      <td>28.493153</td>\n",
       "    </tr>\n",
       "    <tr>\n",
       "      <th>1</th>\n",
       "      <td>C</td>\n",
       "      <td>ILICIC</td>\n",
       "      <td>T;A</td>\n",
       "      <td>Atalanta</td>\n",
       "      <td>0.9</td>\n",
       "      <td>24.0</td>\n",
       "      <td>6.337201</td>\n",
       "      <td>0.425234</td>\n",
       "      <td>18.698308</td>\n",
       "      <td>-5.301692</td>\n",
       "      <td>7.15</td>\n",
       "      <td>21.45</td>\n",
       "      <td>43.576834</td>\n",
       "      <td>44.253668</td>\n",
       "    </tr>\n",
       "    <tr>\n",
       "      <th>2</th>\n",
       "      <td>P</td>\n",
       "      <td>GOLLINI</td>\n",
       "      <td>Por</td>\n",
       "      <td>Atalanta</td>\n",
       "      <td>0.5</td>\n",
       "      <td>1.0</td>\n",
       "      <td>5.313893</td>\n",
       "      <td>0.173850</td>\n",
       "      <td>3.611983</td>\n",
       "      <td>2.611983</td>\n",
       "      <td>0.75</td>\n",
       "      <td>2.25</td>\n",
       "      <td>7.471043</td>\n",
       "      <td>10.442086</td>\n",
       "    </tr>\n",
       "    <tr>\n",
       "      <th>3</th>\n",
       "      <td>D</td>\n",
       "      <td>TOLOI</td>\n",
       "      <td>Dc</td>\n",
       "      <td>Atalanta</td>\n",
       "      <td>0.9</td>\n",
       "      <td>10.0</td>\n",
       "      <td>5.714318</td>\n",
       "      <td>0.272218</td>\n",
       "      <td>12.966398</td>\n",
       "      <td>2.966398</td>\n",
       "      <td>3.56</td>\n",
       "      <td>10.68</td>\n",
       "      <td>28.121203</td>\n",
       "      <td>34.882406</td>\n",
       "    </tr>\n",
       "    <tr>\n",
       "      <th>4</th>\n",
       "      <td>A</td>\n",
       "      <td>TUMMINELLO</td>\n",
       "      <td>Pc</td>\n",
       "      <td>Atalanta</td>\n",
       "      <td>0.5</td>\n",
       "      <td>7.0</td>\n",
       "      <td>5.580843</td>\n",
       "      <td>0.239428</td>\n",
       "      <td>6.068516</td>\n",
       "      <td>-0.931484</td>\n",
       "      <td>2.45</td>\n",
       "      <td>7.35</td>\n",
       "      <td>14.337028</td>\n",
       "      <td>13.974056</td>\n",
       "    </tr>\n",
       "  </tbody>\n",
       "</table>\n",
       "</div>"
      ],
      "text/plain": [
       "   R        Nome R_Mantra Squadra_y  Tit  Quote   Predict  Predict STD  \\\n",
       "0  C     DE ROON      M;C  Atalanta  0.8    9.0  5.669826     0.261288   \n",
       "1  C      ILICIC      T;A  Atalanta  0.9   24.0  6.337201     0.425234   \n",
       "2  P     GOLLINI      Por  Atalanta  0.5    1.0  5.313893     0.173850   \n",
       "3  D       TOLOI       Dc  Atalanta  0.9   10.0  5.714318     0.272218   \n",
       "4  A  TUMMINELLO       Pc  Atalanta  0.5    7.0  5.580843     0.239428   \n",
       "\n",
       "      FinVal      Diff  Tot. (%)  SpesaPer     SpesaM  SpesaDiff  \n",
       "0  11.139572  2.139572      3.55     10.65  24.896576  28.493153  \n",
       "1  18.698308 -5.301692      7.15     21.45  43.576834  44.253668  \n",
       "2   3.611983  2.611983      0.75      2.25   7.471043  10.442086  \n",
       "3  12.966398  2.966398      3.56     10.68  28.121203  34.882406  \n",
       "4   6.068516 -0.931484      2.45      7.35  14.337028  13.974056  "
      ]
     },
     "execution_count": 3,
     "metadata": {},
     "output_type": "execute_result"
    }
   ],
   "source": [
    "df1.head()"
   ]
  },
  {
   "cell_type": "code",
   "execution_count": 4,
   "metadata": {},
   "outputs": [
    {
     "data": {
      "text/html": [
       "<div>\n",
       "<style scoped>\n",
       "    .dataframe tbody tr th:only-of-type {\n",
       "        vertical-align: middle;\n",
       "    }\n",
       "\n",
       "    .dataframe tbody tr th {\n",
       "        vertical-align: top;\n",
       "    }\n",
       "\n",
       "    .dataframe thead th {\n",
       "        text-align: right;\n",
       "    }\n",
       "</style>\n",
       "<table border=\"1\" class=\"dataframe\">\n",
       "  <thead>\n",
       "    <tr style=\"text-align: right;\">\n",
       "      <th></th>\n",
       "      <th>TA</th>\n",
       "      <th>LJAJIC</th>\n",
       "      <th>Torino</th>\n",
       "      <th>16</th>\n",
       "    </tr>\n",
       "  </thead>\n",
       "  <tbody>\n",
       "    <tr>\n",
       "      <th>0</th>\n",
       "      <td>A</td>\n",
       "      <td>THEREAU</td>\n",
       "      <td>Fiorentina</td>\n",
       "      <td>13</td>\n",
       "    </tr>\n",
       "    <tr>\n",
       "      <th>1</th>\n",
       "      <td>A</td>\n",
       "      <td>NIANG</td>\n",
       "      <td>Torino</td>\n",
       "      <td>12</td>\n",
       "    </tr>\n",
       "    <tr>\n",
       "      <th>2</th>\n",
       "      <td>MC</td>\n",
       "      <td>STROOTMAN</td>\n",
       "      <td>Roma</td>\n",
       "      <td>12</td>\n",
       "    </tr>\n",
       "    <tr>\n",
       "      <th>3</th>\n",
       "      <td>Pc</td>\n",
       "      <td>LAPADULA</td>\n",
       "      <td>Genoa</td>\n",
       "      <td>12</td>\n",
       "    </tr>\n",
       "    <tr>\n",
       "      <th>4</th>\n",
       "      <td>Pc</td>\n",
       "      <td>DIONISI</td>\n",
       "      <td>Frosinone</td>\n",
       "      <td>10</td>\n",
       "    </tr>\n",
       "  </tbody>\n",
       "</table>\n",
       "</div>"
      ],
      "text/plain": [
       "   TA     LJAJIC      Torino  16\n",
       "0   A    THEREAU  Fiorentina  13\n",
       "1   A      NIANG      Torino  12\n",
       "2  MC  STROOTMAN        Roma  12\n",
       "3  Pc   LAPADULA       Genoa  12\n",
       "4  Pc    DIONISI   Frosinone  10"
      ]
     },
     "execution_count": 4,
     "metadata": {},
     "output_type": "execute_result"
    }
   ],
   "source": [
    "df2.head()"
   ]
  },
  {
   "cell_type": "code",
   "execution_count": 7,
   "metadata": {},
   "outputs": [],
   "source": [
    "df = pd.merge(left=df1, right=df2, left_on=\"Nome\", right_on=\"LJAJIC\", how=\"right\")"
   ]
  },
  {
   "cell_type": "code",
   "execution_count": 9,
   "metadata": {},
   "outputs": [],
   "source": [
    "df = df.dropna()"
   ]
  },
  {
   "cell_type": "code",
   "execution_count": 12,
   "metadata": {},
   "outputs": [],
   "source": [
    "df.to_csv(\"merged.csv\", index=False, sep=\",\")"
   ]
  },
  {
   "cell_type": "code",
   "execution_count": null,
   "metadata": {},
   "outputs": [],
   "source": []
  }
 ],
 "metadata": {
  "kernelspec": {
   "display_name": "Python 3",
   "language": "python",
   "name": "python3"
  },
  "language_info": {
   "codemirror_mode": {
    "name": "ipython",
    "version": 3
   },
   "file_extension": ".py",
   "mimetype": "text/x-python",
   "name": "python",
   "nbconvert_exporter": "python",
   "pygments_lexer": "ipython3",
   "version": "3.6.6"
  }
 },
 "nbformat": 4,
 "nbformat_minor": 2
}
